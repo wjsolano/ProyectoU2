{
 "cells": [
  {
   "cell_type": "code",
   "execution_count": 1,
   "id": "3a9a6434",
   "metadata": {},
   "outputs": [],
   "source": [
    "\"\"\"Librerias y paquetes necesarios\"\"\"\n",
    "import pandas as pd\n",
    "import matplotlib.pyplot as plt \n",
    "import numpy as np \n",
    "import seaborn as sns \n",
    "import statsmodels.api as sm\n",
    "from sklearn.datasets import load_boston\n",
    "from sklearn.metrics import precision_score\n",
    "from sklearn.model_selection import train_test_split\n",
    "from sklearn.metrics import accuracy_score\n",
    "from sklearn.metrics import confusion_matrix\n",
    "from sklearn.preprocessing import StandardScaler\n",
    "from sklearn.preprocessing import StandardScaler, RobustScaler\n",
    "from sklearn.metrics import confusion_matrix,classification_report"
   ]
  },
  {
   "cell_type": "code",
   "execution_count": 2,
   "id": "55cf7a38",
   "metadata": {},
   "outputs": [
    {
     "data": {
      "text/html": [
       "<div>\n",
       "<style scoped>\n",
       "    .dataframe tbody tr th:only-of-type {\n",
       "        vertical-align: middle;\n",
       "    }\n",
       "\n",
       "    .dataframe tbody tr th {\n",
       "        vertical-align: top;\n",
       "    }\n",
       "\n",
       "    .dataframe thead th {\n",
       "        text-align: right;\n",
       "    }\n",
       "</style>\n",
       "<table border=\"1\" class=\"dataframe\">\n",
       "  <thead>\n",
       "    <tr style=\"text-align: right;\">\n",
       "      <th></th>\n",
       "      <th>id</th>\n",
       "      <th>age</th>\n",
       "      <th>gender</th>\n",
       "      <th>height</th>\n",
       "      <th>weight</th>\n",
       "      <th>ap_hi</th>\n",
       "      <th>ap_lo</th>\n",
       "      <th>cholesterol</th>\n",
       "      <th>gluc</th>\n",
       "      <th>smoke</th>\n",
       "      <th>alco</th>\n",
       "      <th>active</th>\n",
       "      <th>cardio</th>\n",
       "    </tr>\n",
       "  </thead>\n",
       "  <tbody>\n",
       "    <tr>\n",
       "      <th>0</th>\n",
       "      <td>0</td>\n",
       "      <td>18393</td>\n",
       "      <td>2</td>\n",
       "      <td>168</td>\n",
       "      <td>62.0</td>\n",
       "      <td>110</td>\n",
       "      <td>80</td>\n",
       "      <td>1</td>\n",
       "      <td>1</td>\n",
       "      <td>0</td>\n",
       "      <td>0</td>\n",
       "      <td>1</td>\n",
       "      <td>0</td>\n",
       "    </tr>\n",
       "    <tr>\n",
       "      <th>1</th>\n",
       "      <td>1</td>\n",
       "      <td>20228</td>\n",
       "      <td>1</td>\n",
       "      <td>156</td>\n",
       "      <td>85.0</td>\n",
       "      <td>140</td>\n",
       "      <td>90</td>\n",
       "      <td>3</td>\n",
       "      <td>1</td>\n",
       "      <td>0</td>\n",
       "      <td>0</td>\n",
       "      <td>1</td>\n",
       "      <td>1</td>\n",
       "    </tr>\n",
       "    <tr>\n",
       "      <th>2</th>\n",
       "      <td>2</td>\n",
       "      <td>18857</td>\n",
       "      <td>1</td>\n",
       "      <td>165</td>\n",
       "      <td>64.0</td>\n",
       "      <td>130</td>\n",
       "      <td>70</td>\n",
       "      <td>3</td>\n",
       "      <td>1</td>\n",
       "      <td>0</td>\n",
       "      <td>0</td>\n",
       "      <td>0</td>\n",
       "      <td>1</td>\n",
       "    </tr>\n",
       "    <tr>\n",
       "      <th>3</th>\n",
       "      <td>3</td>\n",
       "      <td>17623</td>\n",
       "      <td>2</td>\n",
       "      <td>169</td>\n",
       "      <td>82.0</td>\n",
       "      <td>150</td>\n",
       "      <td>100</td>\n",
       "      <td>1</td>\n",
       "      <td>1</td>\n",
       "      <td>0</td>\n",
       "      <td>0</td>\n",
       "      <td>1</td>\n",
       "      <td>1</td>\n",
       "    </tr>\n",
       "    <tr>\n",
       "      <th>4</th>\n",
       "      <td>4</td>\n",
       "      <td>17474</td>\n",
       "      <td>1</td>\n",
       "      <td>156</td>\n",
       "      <td>56.0</td>\n",
       "      <td>100</td>\n",
       "      <td>60</td>\n",
       "      <td>1</td>\n",
       "      <td>1</td>\n",
       "      <td>0</td>\n",
       "      <td>0</td>\n",
       "      <td>0</td>\n",
       "      <td>0</td>\n",
       "    </tr>\n",
       "  </tbody>\n",
       "</table>\n",
       "</div>"
      ],
      "text/plain": [
       "   id    age  gender  height  weight  ap_hi  ap_lo  cholesterol  gluc  smoke  \\\n",
       "0   0  18393       2     168    62.0    110     80            1     1      0   \n",
       "1   1  20228       1     156    85.0    140     90            3     1      0   \n",
       "2   2  18857       1     165    64.0    130     70            3     1      0   \n",
       "3   3  17623       2     169    82.0    150    100            1     1      0   \n",
       "4   4  17474       1     156    56.0    100     60            1     1      0   \n",
       "\n",
       "   alco  active  cardio  \n",
       "0     0       1       0  \n",
       "1     0       1       1  \n",
       "2     0       0       1  \n",
       "3     0       1       1  \n",
       "4     0       0       0  "
      ]
     },
     "execution_count": 2,
     "metadata": {},
     "output_type": "execute_result"
    }
   ],
   "source": [
    "#Código para cargar el Dataset\n",
    "enfermedadesCardiovascular= pd.read_csv('cardio_train.csv',sep=\";\")\n",
    "enfermedadesCardiovascular.head() #presentando dataset"
   ]
  },
  {
   "cell_type": "markdown",
   "id": "58b44a06",
   "metadata": {},
   "source": [
    "# Limpieza de datos"
   ]
  },
  {
   "cell_type": "code",
   "execution_count": 60,
   "id": "cce1d292",
   "metadata": {},
   "outputs": [
    {
     "data": {
      "text/html": [
       "<div>\n",
       "<style scoped>\n",
       "    .dataframe tbody tr th:only-of-type {\n",
       "        vertical-align: middle;\n",
       "    }\n",
       "\n",
       "    .dataframe tbody tr th {\n",
       "        vertical-align: top;\n",
       "    }\n",
       "\n",
       "    .dataframe thead th {\n",
       "        text-align: right;\n",
       "    }\n",
       "</style>\n",
       "<table border=\"1\" class=\"dataframe\">\n",
       "  <thead>\n",
       "    <tr style=\"text-align: right;\">\n",
       "      <th></th>\n",
       "      <th>id</th>\n",
       "      <th>age</th>\n",
       "      <th>gender</th>\n",
       "      <th>height</th>\n",
       "      <th>weight</th>\n",
       "      <th>ap_hi</th>\n",
       "      <th>ap_lo</th>\n",
       "      <th>cholesterol</th>\n",
       "      <th>gluc</th>\n",
       "      <th>smoke</th>\n",
       "      <th>alco</th>\n",
       "      <th>active</th>\n",
       "      <th>cardio</th>\n",
       "    </tr>\n",
       "  </thead>\n",
       "  <tbody>\n",
       "    <tr>\n",
       "      <th>0</th>\n",
       "      <td>0</td>\n",
       "      <td>18393</td>\n",
       "      <td>2</td>\n",
       "      <td>168</td>\n",
       "      <td>62.0</td>\n",
       "      <td>110</td>\n",
       "      <td>80</td>\n",
       "      <td>1</td>\n",
       "      <td>1</td>\n",
       "      <td>0</td>\n",
       "      <td>0</td>\n",
       "      <td>1</td>\n",
       "      <td>0</td>\n",
       "    </tr>\n",
       "    <tr>\n",
       "      <th>1</th>\n",
       "      <td>1</td>\n",
       "      <td>20228</td>\n",
       "      <td>1</td>\n",
       "      <td>156</td>\n",
       "      <td>85.0</td>\n",
       "      <td>140</td>\n",
       "      <td>90</td>\n",
       "      <td>3</td>\n",
       "      <td>1</td>\n",
       "      <td>0</td>\n",
       "      <td>0</td>\n",
       "      <td>1</td>\n",
       "      <td>1</td>\n",
       "    </tr>\n",
       "    <tr>\n",
       "      <th>2</th>\n",
       "      <td>2</td>\n",
       "      <td>18857</td>\n",
       "      <td>1</td>\n",
       "      <td>165</td>\n",
       "      <td>64.0</td>\n",
       "      <td>130</td>\n",
       "      <td>70</td>\n",
       "      <td>3</td>\n",
       "      <td>1</td>\n",
       "      <td>0</td>\n",
       "      <td>0</td>\n",
       "      <td>0</td>\n",
       "      <td>1</td>\n",
       "    </tr>\n",
       "    <tr>\n",
       "      <th>3</th>\n",
       "      <td>3</td>\n",
       "      <td>17623</td>\n",
       "      <td>2</td>\n",
       "      <td>169</td>\n",
       "      <td>82.0</td>\n",
       "      <td>150</td>\n",
       "      <td>100</td>\n",
       "      <td>1</td>\n",
       "      <td>1</td>\n",
       "      <td>0</td>\n",
       "      <td>0</td>\n",
       "      <td>1</td>\n",
       "      <td>1</td>\n",
       "    </tr>\n",
       "    <tr>\n",
       "      <th>4</th>\n",
       "      <td>4</td>\n",
       "      <td>17474</td>\n",
       "      <td>1</td>\n",
       "      <td>156</td>\n",
       "      <td>56.0</td>\n",
       "      <td>100</td>\n",
       "      <td>60</td>\n",
       "      <td>1</td>\n",
       "      <td>1</td>\n",
       "      <td>0</td>\n",
       "      <td>0</td>\n",
       "      <td>0</td>\n",
       "      <td>0</td>\n",
       "    </tr>\n",
       "  </tbody>\n",
       "</table>\n",
       "</div>"
      ],
      "text/plain": [
       "   id    age  gender  height  weight  ap_hi  ap_lo  cholesterol  gluc  smoke  \\\n",
       "0   0  18393       2     168    62.0    110     80            1     1      0   \n",
       "1   1  20228       1     156    85.0    140     90            3     1      0   \n",
       "2   2  18857       1     165    64.0    130     70            3     1      0   \n",
       "3   3  17623       2     169    82.0    150    100            1     1      0   \n",
       "4   4  17474       1     156    56.0    100     60            1     1      0   \n",
       "\n",
       "   alco  active  cardio  \n",
       "0     0       1       0  \n",
       "1     0       1       1  \n",
       "2     0       0       1  \n",
       "3     0       1       1  \n",
       "4     0       0       0  "
      ]
     },
     "execution_count": 60,
     "metadata": {},
     "output_type": "execute_result"
    }
   ],
   "source": [
    "#Reduciendo registros de dataset para pasar de 70000 a 3000\n",
    "datasetReducido=enfermedadesCardiovascular[:2000]\n",
    "datasetReducido.head() #Los registros serán escogidos aleatoriamente"
   ]
  },
  {
   "cell_type": "code",
   "execution_count": 61,
   "id": "535330dc",
   "metadata": {},
   "outputs": [],
   "source": [
    "\"\"\"Separando las características de entrada y salida\"\"\"\n",
    "X=datasetReducido[['age','gender','height','weight','ap_hi','ap_lo','cholesterol','gluc','smoke','alco','active']]\n",
    "y=datasetReducido[['cardio']]"
   ]
  },
  {
   "cell_type": "code",
   "execution_count": 62,
   "id": "99b80dae",
   "metadata": {},
   "outputs": [
    {
     "data": {
      "text/plain": [
       "cardio    0\n",
       "dtype: int64"
      ]
     },
     "execution_count": 62,
     "metadata": {},
     "output_type": "execute_result"
    }
   ],
   "source": [
    "\"\"\"Identificando si existen valores nulos en la variable objetivo\"\"\"\n",
    "y.isnull().sum()"
   ]
  },
  {
   "cell_type": "code",
   "execution_count": 63,
   "id": "eca74ba2",
   "metadata": {},
   "outputs": [
    {
     "data": {
      "text/plain": [
       "age            0\n",
       "gender         0\n",
       "height         0\n",
       "weight         0\n",
       "ap_hi          0\n",
       "ap_lo          0\n",
       "cholesterol    0\n",
       "gluc           0\n",
       "smoke          0\n",
       "alco           0\n",
       "active         0\n",
       "dtype: int64"
      ]
     },
     "execution_count": 63,
     "metadata": {},
     "output_type": "execute_result"
    }
   ],
   "source": [
    "\"\"\"Identificando si existen valores nulos en las variables de entrada\"\"\"\n",
    "X.isnull().sum()"
   ]
  },
  {
   "cell_type": "markdown",
   "id": "644597eb",
   "metadata": {},
   "source": [
    "# Descripción de la fuente del Dataset"
   ]
  },
  {
   "cell_type": "markdown",
   "id": "c46a03d9",
   "metadata": {},
   "source": [
    "El dataset con el que se va a trabajar contiene 70000 registros, el cual se lo transformo a 3000 reigstros. Los registros serán sobre personas con enfermedad cardiovascular. Contiene características que ayuda a predicir si una persona tiene o no enfermedad cardiovascular. Entre las características de entrada se encuentran las siguientes:\n",
    "\n",
    "Id: Id de la persona (int).\n",
    "\n",
    "Age: La edad (int).\n",
    "\n",
    "Gender: El género 1 para mujer y 2 para hombre.\n",
    "\n",
    "Height: Altura (cm).\n",
    "\n",
    "Weight: El peso (kg).\n",
    "\n",
    "ap_hi: Presión sanguínea sistólica (int).\n",
    "\n",
    "ap_lo: Presión arterial diastólica.\n",
    "\n",
    "cholesterol: El colesterol por niveles, 1: normal, 2: por encima de lo normal, 3: muy por\n",
    "encima de lo normal.\n",
    "\n",
    "gluc: La glucosa por niveles, 1: normal, 2: por encima de lo normal, 3: muy por encima de lo\n",
    "normal.\n",
    "\n",
    "smoke: Si el paciente fuma o no, 0 para no y 1 para si.\n",
    "\n",
    "alco: Si el paciente toma alcohol, 0 para no y 1 para si.\n",
    "\n",
    "active: Si el paciente tiene actividad física, 0 para no y 1 para si."
   ]
  },
  {
   "cell_type": "code",
   "execution_count": 64,
   "id": "50c4049a",
   "metadata": {},
   "outputs": [
    {
     "data": {
      "text/html": [
       "<div>\n",
       "<style scoped>\n",
       "    .dataframe tbody tr th:only-of-type {\n",
       "        vertical-align: middle;\n",
       "    }\n",
       "\n",
       "    .dataframe tbody tr th {\n",
       "        vertical-align: top;\n",
       "    }\n",
       "\n",
       "    .dataframe thead th {\n",
       "        text-align: right;\n",
       "    }\n",
       "</style>\n",
       "<table border=\"1\" class=\"dataframe\">\n",
       "  <thead>\n",
       "    <tr style=\"text-align: right;\">\n",
       "      <th></th>\n",
       "      <th>id</th>\n",
       "      <th>age</th>\n",
       "      <th>gender</th>\n",
       "      <th>height</th>\n",
       "      <th>weight</th>\n",
       "      <th>ap_hi</th>\n",
       "      <th>ap_lo</th>\n",
       "      <th>cholesterol</th>\n",
       "      <th>gluc</th>\n",
       "      <th>smoke</th>\n",
       "      <th>alco</th>\n",
       "      <th>active</th>\n",
       "      <th>cardio</th>\n",
       "    </tr>\n",
       "  </thead>\n",
       "  <tbody>\n",
       "    <tr>\n",
       "      <th>count</th>\n",
       "      <td>70000.000000</td>\n",
       "      <td>70000.000000</td>\n",
       "      <td>70000.000000</td>\n",
       "      <td>70000.000000</td>\n",
       "      <td>70000.000000</td>\n",
       "      <td>70000.000000</td>\n",
       "      <td>70000.000000</td>\n",
       "      <td>70000.000000</td>\n",
       "      <td>70000.000000</td>\n",
       "      <td>70000.000000</td>\n",
       "      <td>70000.000000</td>\n",
       "      <td>70000.000000</td>\n",
       "      <td>70000.000000</td>\n",
       "    </tr>\n",
       "    <tr>\n",
       "      <th>mean</th>\n",
       "      <td>49972.419900</td>\n",
       "      <td>19468.865814</td>\n",
       "      <td>1.349571</td>\n",
       "      <td>164.359229</td>\n",
       "      <td>74.205690</td>\n",
       "      <td>128.817286</td>\n",
       "      <td>96.630414</td>\n",
       "      <td>1.366871</td>\n",
       "      <td>1.226457</td>\n",
       "      <td>0.088129</td>\n",
       "      <td>0.053771</td>\n",
       "      <td>0.803729</td>\n",
       "      <td>0.499700</td>\n",
       "    </tr>\n",
       "    <tr>\n",
       "      <th>std</th>\n",
       "      <td>28851.302323</td>\n",
       "      <td>2467.251667</td>\n",
       "      <td>0.476838</td>\n",
       "      <td>8.210126</td>\n",
       "      <td>14.395757</td>\n",
       "      <td>154.011419</td>\n",
       "      <td>188.472530</td>\n",
       "      <td>0.680250</td>\n",
       "      <td>0.572270</td>\n",
       "      <td>0.283484</td>\n",
       "      <td>0.225568</td>\n",
       "      <td>0.397179</td>\n",
       "      <td>0.500003</td>\n",
       "    </tr>\n",
       "    <tr>\n",
       "      <th>min</th>\n",
       "      <td>0.000000</td>\n",
       "      <td>10798.000000</td>\n",
       "      <td>1.000000</td>\n",
       "      <td>55.000000</td>\n",
       "      <td>10.000000</td>\n",
       "      <td>-150.000000</td>\n",
       "      <td>-70.000000</td>\n",
       "      <td>1.000000</td>\n",
       "      <td>1.000000</td>\n",
       "      <td>0.000000</td>\n",
       "      <td>0.000000</td>\n",
       "      <td>0.000000</td>\n",
       "      <td>0.000000</td>\n",
       "    </tr>\n",
       "    <tr>\n",
       "      <th>25%</th>\n",
       "      <td>25006.750000</td>\n",
       "      <td>17664.000000</td>\n",
       "      <td>1.000000</td>\n",
       "      <td>159.000000</td>\n",
       "      <td>65.000000</td>\n",
       "      <td>120.000000</td>\n",
       "      <td>80.000000</td>\n",
       "      <td>1.000000</td>\n",
       "      <td>1.000000</td>\n",
       "      <td>0.000000</td>\n",
       "      <td>0.000000</td>\n",
       "      <td>1.000000</td>\n",
       "      <td>0.000000</td>\n",
       "    </tr>\n",
       "    <tr>\n",
       "      <th>50%</th>\n",
       "      <td>50001.500000</td>\n",
       "      <td>19703.000000</td>\n",
       "      <td>1.000000</td>\n",
       "      <td>165.000000</td>\n",
       "      <td>72.000000</td>\n",
       "      <td>120.000000</td>\n",
       "      <td>80.000000</td>\n",
       "      <td>1.000000</td>\n",
       "      <td>1.000000</td>\n",
       "      <td>0.000000</td>\n",
       "      <td>0.000000</td>\n",
       "      <td>1.000000</td>\n",
       "      <td>0.000000</td>\n",
       "    </tr>\n",
       "    <tr>\n",
       "      <th>75%</th>\n",
       "      <td>74889.250000</td>\n",
       "      <td>21327.000000</td>\n",
       "      <td>2.000000</td>\n",
       "      <td>170.000000</td>\n",
       "      <td>82.000000</td>\n",
       "      <td>140.000000</td>\n",
       "      <td>90.000000</td>\n",
       "      <td>2.000000</td>\n",
       "      <td>1.000000</td>\n",
       "      <td>0.000000</td>\n",
       "      <td>0.000000</td>\n",
       "      <td>1.000000</td>\n",
       "      <td>1.000000</td>\n",
       "    </tr>\n",
       "    <tr>\n",
       "      <th>max</th>\n",
       "      <td>99999.000000</td>\n",
       "      <td>23713.000000</td>\n",
       "      <td>2.000000</td>\n",
       "      <td>250.000000</td>\n",
       "      <td>200.000000</td>\n",
       "      <td>16020.000000</td>\n",
       "      <td>11000.000000</td>\n",
       "      <td>3.000000</td>\n",
       "      <td>3.000000</td>\n",
       "      <td>1.000000</td>\n",
       "      <td>1.000000</td>\n",
       "      <td>1.000000</td>\n",
       "      <td>1.000000</td>\n",
       "    </tr>\n",
       "  </tbody>\n",
       "</table>\n",
       "</div>"
      ],
      "text/plain": [
       "                 id           age        gender        height        weight  \\\n",
       "count  70000.000000  70000.000000  70000.000000  70000.000000  70000.000000   \n",
       "mean   49972.419900  19468.865814      1.349571    164.359229     74.205690   \n",
       "std    28851.302323   2467.251667      0.476838      8.210126     14.395757   \n",
       "min        0.000000  10798.000000      1.000000     55.000000     10.000000   \n",
       "25%    25006.750000  17664.000000      1.000000    159.000000     65.000000   \n",
       "50%    50001.500000  19703.000000      1.000000    165.000000     72.000000   \n",
       "75%    74889.250000  21327.000000      2.000000    170.000000     82.000000   \n",
       "max    99999.000000  23713.000000      2.000000    250.000000    200.000000   \n",
       "\n",
       "              ap_hi         ap_lo   cholesterol          gluc         smoke  \\\n",
       "count  70000.000000  70000.000000  70000.000000  70000.000000  70000.000000   \n",
       "mean     128.817286     96.630414      1.366871      1.226457      0.088129   \n",
       "std      154.011419    188.472530      0.680250      0.572270      0.283484   \n",
       "min     -150.000000    -70.000000      1.000000      1.000000      0.000000   \n",
       "25%      120.000000     80.000000      1.000000      1.000000      0.000000   \n",
       "50%      120.000000     80.000000      1.000000      1.000000      0.000000   \n",
       "75%      140.000000     90.000000      2.000000      1.000000      0.000000   \n",
       "max    16020.000000  11000.000000      3.000000      3.000000      1.000000   \n",
       "\n",
       "               alco        active        cardio  \n",
       "count  70000.000000  70000.000000  70000.000000  \n",
       "mean       0.053771      0.803729      0.499700  \n",
       "std        0.225568      0.397179      0.500003  \n",
       "min        0.000000      0.000000      0.000000  \n",
       "25%        0.000000      1.000000      0.000000  \n",
       "50%        0.000000      1.000000      0.000000  \n",
       "75%        0.000000      1.000000      1.000000  \n",
       "max        1.000000      1.000000      1.000000  "
      ]
     },
     "execution_count": 64,
     "metadata": {},
     "output_type": "execute_result"
    }
   ],
   "source": [
    "#describiendo las caracteristicas anteriormente mencionadas\n",
    "enfermedadesCardiovascular.describe()"
   ]
  },
  {
   "cell_type": "markdown",
   "id": "b77782aa",
   "metadata": {},
   "source": [
    "# Problema a resolver"
   ]
  },
  {
   "cell_type": "markdown",
   "id": "65b5094b",
   "metadata": {},
   "source": [
    "Como se ha mencionado el problema identificado es predicir si una personas tienen o no una enfermedad cardiovascular. Para ello en su variable objetivo que es Cardio se identifica con 1 a las personas con enfermedad cardiovascular. Mientras que, 0 a las personas que no tienen enfermedad cardiovascular. Entre las variables objetivos están: Id,\n",
    "Age\n",
    "Gender\n",
    "Height\n",
    "Weight \n",
    "ap_hi\n",
    "ap_lo \n",
    "cholesterol \n",
    "gluc\n",
    "smoke \n",
    "alco \n",
    "active "
   ]
  },
  {
   "cell_type": "markdown",
   "id": "ae9a75f5",
   "metadata": {},
   "source": [
    "# Caracterización del Dataset"
   ]
  },
  {
   "cell_type": "code",
   "execution_count": 65,
   "id": "65743248",
   "metadata": {},
   "outputs": [
    {
     "data": {
      "text/plain": [
       "id             2000\n",
       "age            2000\n",
       "gender         2000\n",
       "height         2000\n",
       "weight         2000\n",
       "ap_hi          2000\n",
       "ap_lo          2000\n",
       "cholesterol    2000\n",
       "gluc           2000\n",
       "smoke          2000\n",
       "alco           2000\n",
       "active         2000\n",
       "cardio         2000\n",
       "dtype: int64"
      ]
     },
     "execution_count": 65,
     "metadata": {},
     "output_type": "execute_result"
    }
   ],
   "source": [
    "#Número de instancias en total.\n",
    "datasetReducido.count()"
   ]
  },
  {
   "cell_type": "code",
   "execution_count": 66,
   "id": "70b77b9f",
   "metadata": {},
   "outputs": [
    {
     "name": "stdout",
     "output_type": "stream",
     "text": [
      "<class 'pandas.core.frame.DataFrame'>\n",
      "RangeIndex: 2000 entries, 0 to 1999\n",
      "Data columns (total 12 columns):\n",
      " #   Column       Non-Null Count  Dtype  \n",
      "---  ------       --------------  -----  \n",
      " 0   id           2000 non-null   int64  \n",
      " 1   age          2000 non-null   int64  \n",
      " 2   gender       2000 non-null   int64  \n",
      " 3   height       2000 non-null   int64  \n",
      " 4   weight       2000 non-null   float64\n",
      " 5   ap_hi        2000 non-null   int64  \n",
      " 6   ap_lo        2000 non-null   int64  \n",
      " 7   cholesterol  2000 non-null   int64  \n",
      " 8   gluc         2000 non-null   int64  \n",
      " 9   smoke        2000 non-null   int64  \n",
      " 10  alco         2000 non-null   int64  \n",
      " 11  active       2000 non-null   int64  \n",
      "dtypes: float64(1), int64(11)\n",
      "memory usage: 187.6 KB\n"
     ]
    }
   ],
   "source": [
    "#Número de atributos de entrada, su significado y tipo.\n",
    "datasetReducido.drop('cardio', axis=1).info()"
   ]
  },
  {
   "cell_type": "markdown",
   "id": "1fe87abe",
   "metadata": {},
   "source": [
    "# Variables de entrenamiento y prueba"
   ]
  },
  {
   "cell_type": "code",
   "execution_count": 67,
   "id": "8bbdfd61",
   "metadata": {},
   "outputs": [],
   "source": [
    "\"\"\"Variables de entrada y variable objetivo\"\"\"\n",
    "VariableObjetivo=['cardio']\n",
    "VariablesEntrada=['age','gender','height','weight','ap_hi','ap_lo','cholesterol','gluc','smoke','alco','active']"
   ]
  },
  {
   "cell_type": "code",
   "execution_count": 68,
   "id": "44006e2f",
   "metadata": {},
   "outputs": [],
   "source": [
    "\"\"\"Dividiendo para prepar las variables de entrenamiento y prueba\"\"\"\n",
    "x=datasetReducido[VariablesEntrada].values\n",
    "y=datasetReducido[VariableObjetivo].values"
   ]
  },
  {
   "cell_type": "code",
   "execution_count": 69,
   "id": "8d2f5255",
   "metadata": {},
   "outputs": [],
   "source": [
    "\"\"\"Declarando las variables de entrenamiento y prueba\"\"\"\n",
    "X_train, X_test, y_train, y_test = train_test_split(x, y, test_size=0.3, random_state=0)"
   ]
  },
  {
   "cell_type": "markdown",
   "id": "8e0e5504",
   "metadata": {},
   "source": [
    "# Estanderizando"
   ]
  },
  {
   "cell_type": "code",
   "execution_count": 70,
   "id": "09223595",
   "metadata": {},
   "outputs": [],
   "source": [
    "\"\"\"Estanderizando escalas\"\"\"\n",
    "estanderizar=StandardScaler()\n",
    "x_train=estanderizar.fit_transform(X_train)\n",
    "x_test=estanderizar.transform(X_test)"
   ]
  },
  {
   "cell_type": "markdown",
   "id": "66afe56d",
   "metadata": {},
   "source": [
    "# Naive Bayes"
   ]
  },
  {
   "cell_type": "code",
   "execution_count": 71,
   "id": "df7f38e4",
   "metadata": {},
   "outputs": [],
   "source": [
    "\"\"\"Importando las librerias necesarias que se usan para el modelo\"\"\"\n",
    "from sklearn.naive_bayes import GaussianNB"
   ]
  },
  {
   "cell_type": "code",
   "execution_count": 72,
   "id": "f435d65a",
   "metadata": {},
   "outputs": [
    {
     "name": "stderr",
     "output_type": "stream",
     "text": [
      "C:\\Users\\wilme\\anaconda3\\lib\\site-packages\\sklearn\\utils\\validation.py:993: DataConversionWarning: A column-vector y was passed when a 1d array was expected. Please change the shape of y to (n_samples, ), for example using ravel().\n",
      "  y = column_or_1d(y, warn=True)\n"
     ]
    },
    {
     "data": {
      "text/plain": [
       "GaussianNB()"
      ]
     },
     "execution_count": 72,
     "metadata": {},
     "output_type": "execute_result"
    }
   ],
   "source": [
    "\"\"\"Algoritmo de Naive Bayes\"\"\"\n",
    "clasificador=GaussianNB()\n",
    "clasificador.fit(X_train,y_train)"
   ]
  },
  {
   "cell_type": "code",
   "execution_count": 73,
   "id": "ad3ba429",
   "metadata": {},
   "outputs": [],
   "source": [
    "\"\"\"Predicción\"\"\"\n",
    "y_prediccion=clasificador.predict(X_test)"
   ]
  },
  {
   "cell_type": "code",
   "execution_count": 74,
   "id": "27528865",
   "metadata": {},
   "outputs": [
    {
     "data": {
      "text/plain": [
       "0.6533333333333333"
      ]
     },
     "execution_count": 74,
     "metadata": {},
     "output_type": "execute_result"
    }
   ],
   "source": [
    "\"\"\"Accuracy del modelo\"\"\"\n",
    "accuracy_score(y_test,y_prediccion)"
   ]
  },
  {
   "cell_type": "code",
   "execution_count": 75,
   "id": "4d315b0e",
   "metadata": {},
   "outputs": [
    {
     "name": "stdout",
     "output_type": "stream",
     "text": [
      "Precisión del modelo del analisis del malware:\n",
      "0.8156028368794326\n"
     ]
    }
   ],
   "source": [
    "#Calculo la precisión del modelo\n",
    "precision = precision_score(y_test, y_prediccion)\n",
    "print('Precisión del modelo del analisis del malware:')\n",
    "print(precision)"
   ]
  },
  {
   "cell_type": "code",
   "execution_count": 76,
   "id": "41738d47",
   "metadata": {},
   "outputs": [
    {
     "data": {
      "image/png": "[encoded data removed]",
      "text/plain": [
       "<Figure size 360x360 with 2 Axes>"
      ]
     },
     "metadata": {
      "needs_background": "light"
     },
     "output_type": "display_data"
    }
   ],
   "source": [
    "\"\"\"Creando matriz de confusion\"\"\"\n",
    "MConfusion=confusion_matrix(y_test,y_prediccion)\n",
    "f, ax = plt.subplots(figsize=(5,5))\n",
    "sns.heatmap(MConfusion, annot=True, linewidth=0.7, linecolor='black', fmt='g', ax=ax, cmap=\"BuPu\")\n",
    "plt.xlabel(\"Prediccion\")\n",
    "plt.ylabel(\"Real\")\n",
    "plt.title(\"Matriz de confusion\")\n",
    "plt.show()"
   ]
  },
  {
   "cell_type": "markdown",
   "id": "a6ee6578",
   "metadata": {},
   "source": [
    "# HVM"
   ]
  },
  {
   "cell_type": "code",
   "execution_count": 77,
   "id": "97a7a132",
   "metadata": {},
   "outputs": [],
   "source": [
    "\"\"\"Para esta actividad se importarán las siguientes librerías:\"\"\"\n",
    "from hmmlearn import hmm"
   ]
  },
  {
   "cell_type": "code",
   "execution_count": 78,
   "id": "3c4d07d8",
   "metadata": {},
   "outputs": [],
   "source": [
    "VariablesEntradaScaler=StandardScaler()"
   ]
  },
  {
   "cell_type": "code",
   "execution_count": 79,
   "id": "4780c2d8",
   "metadata": {},
   "outputs": [],
   "source": [
    "#se adapta las variables de entrada\n",
    "VariablesEntradaFit=VariablesEntradaScaler.fit(X)\n",
    "#Tranforma los datos adaptados de la variable de entrada\n",
    "X=VariablesEntradaFit.transform(X)"
   ]
  },
  {
   "cell_type": "code",
   "execution_count": 80,
   "id": "2e86a147",
   "metadata": {},
   "outputs": [
    {
     "data": {
      "text/plain": [
       "array([0, 1, 1, ..., 0, 0, 1], dtype=int64)"
      ]
     },
     "execution_count": 80,
     "metadata": {},
     "output_type": "execute_result"
    }
   ],
   "source": [
    "# Build the HMM model and fit to the gold price change data.\n",
    "model = hmm.GaussianHMM(n_components = 2, covariance_type = \"diag\", n_iter =50 , random_state = 42)\n",
    "model.fit(X)\n",
    "y_pred=model.predict(X)\n",
    "y_pred"
   ]
  },
  {
   "cell_type": "code",
   "execution_count": 81,
   "id": "f0e5d522",
   "metadata": {},
   "outputs": [
    {
     "data": {
      "text/plain": [
       "0.5015"
      ]
     },
     "execution_count": 81,
     "metadata": {},
     "output_type": "execute_result"
    }
   ],
   "source": [
    "from sklearn.metrics import accuracy_score\n",
    "accuracy_score(y,y_pred)"
   ]
  },
  {
   "cell_type": "code",
   "execution_count": 82,
   "id": "fb972690",
   "metadata": {},
   "outputs": [
    {
     "name": "stdout",
     "output_type": "stream",
     "text": [
      "Precisión del modelo del analisis del malware:\n",
      "0.4954954954954955\n"
     ]
    }
   ],
   "source": [
    "precision = precision_score(y, y_pred)\n",
    "print(precision)"
   ]
  },
  {
   "cell_type": "code",
   "execution_count": 83,
   "id": "defadd7a",
   "metadata": {},
   "outputs": [
    {
     "data": {
      "image/png": "[encoded data removed]",
      "text/plain": [
       "<Figure size 360x360 with 2 Axes>"
      ]
     },
     "metadata": {
      "needs_background": "light"
     },
     "output_type": "display_data"
    }
   ],
   "source": [
    "#Matriz de confusion\n",
    "\"\"\"Creando matriz de confusion\"\"\"\n",
    "MConfusion=confusion_matrix(y,y_pred)\n",
    "f, ax = plt.subplots(figsize=(5,5))\n",
    "sns.heatmap(MConfusion, annot=True, linewidth=0.7, linecolor='black', fmt='g', ax=ax, cmap=\"BuPu\")\n",
    "plt.xlabel(\"Prediccion\")\n",
    "plt.ylabel(\"Real\")\n",
    "plt.title(\"Matriz de confusion\")\n",
    "plt.show()"
   ]
  },
  {
   "cell_type": "markdown",
   "id": "f8d20630",
   "metadata": {},
   "source": [
    "# Logica Difusa"
   ]
  },
  {
   "cell_type": "code",
   "execution_count": 85,
   "id": "c71cbe01",
   "metadata": {},
   "outputs": [],
   "source": [
    "\"\"\"Importación necesaria\"\"\"\n",
    "from fcmeans import FCM"
   ]
  },
  {
   "cell_type": "code",
   "execution_count": 87,
   "id": "800bf4fa",
   "metadata": {},
   "outputs": [],
   "source": [
    "#Datos de entrada\n",
    "VariablesEntradasScaler=StandardScaler()\n",
    "VariablesEntradaFit=VariablesEntradasScaler.fit(X)"
   ]
  },
  {
   "cell_type": "code",
   "execution_count": 103,
   "id": "1c549d0d",
   "metadata": {},
   "outputs": [],
   "source": [
    "\"\"\"Aplicando modelo de lógica difusa\"\"\"\n",
    "modelo_fuzzy = FCM(n_clusters=2, init=1.7, rndom_state=0, fuzzifier=2)\n",
    "modelo_fuzzy.fit(X)"
   ]
  },
  {
   "cell_type": "code",
   "execution_count": 89,
   "id": "060090c8",
   "metadata": {},
   "outputs": [
    {
     "data": {
      "text/plain": [
       "array([1, 0, 1, ..., 0, 1, 0], dtype=int64)"
      ]
     },
     "execution_count": 89,
     "metadata": {},
     "output_type": "execute_result"
    }
   ],
   "source": [
    "\"\"\"El centro del modelo\"\"\"\n",
    "centers = modelo_fuzzy.centers\n",
    "y_pred_fuzzy = modelo_fuzzy.predict(X)\n",
    "y_pred_fuzzy"
   ]
  },
  {
   "cell_type": "code",
   "execution_count": 102,
   "id": "cb89168b",
   "metadata": {},
   "outputs": [
    {
     "data": {
      "text/plain": [
       "0.5485"
      ]
     },
     "execution_count": 102,
     "metadata": {},
     "output_type": "execute_result"
    }
   ],
   "source": [
    "\"\"\"Accurancy del modelo\"\"\"\n",
    "accuracy_score(y,y_pred_fuzzy)"
   ]
  },
  {
   "cell_type": "code",
   "execution_count": 99,
   "id": "b5749bf8",
   "metadata": {},
   "outputs": [
    {
     "name": "stdout",
     "output_type": "stream",
     "text": [
      "0.5477560414269275\n"
     ]
    }
   ],
   "source": [
    "\"\"\"Precisión del modelo\"\"\"\n",
    "precision = precision_score(y, y_pred_fuzzy)\n",
    "print(precision)"
   ]
  },
  {
   "cell_type": "code",
   "execution_count": 97,
   "id": "536ff8da",
   "metadata": {},
   "outputs": [
    {
     "data": {
      "image/png": "[encoded data removed]",
      "text/plain": [
       "<Figure size 288x288 with 2 Axes>"
      ]
     },
     "metadata": {
      "needs_background": "light"
     },
     "output_type": "display_data"
    }
   ],
   "source": [
    "\"\"\"Creando matriz de confusión\"\"\"\n",
    "MConfusion=confusion_matrix(y,y_pred_fuzzy)\n",
    "f, ax = plt.subplots(figsize=(4,4))\n",
    "sns.heatmap(MConfusion, annot=True, fmt='g', ax=ax)\n",
    "plt.xlabel(\"Valor predecido\")\n",
    "plt.ylabel(\"Valor real\")\n",
    "plt.title(\"Matriz de confusión\")\n",
    "plt.show()"
   ]
  },
  {
   "cell_type": "code",
   "execution_count": null,
   "id": "1f8f29b8",
   "metadata": {},
   "outputs": [],
   "source": []
  }
 ],
 "metadata": {
  "kernelspec": {
   "display_name": "Python 3 (ipykernel)",
   "language": "python",
   "name": "python3"
  },
  "language_info": {
   "codemirror_mode": {
    "name": "ipython",
    "version": 3
   },
   "file_extension": ".py",
   "mimetype": "text/x-python",
   "name": "python",
   "nbconvert_exporter": "python",
   "pygments_lexer": "ipython3",
   "version": "3.9.12"
  }
 },
 "nbformat": 4,
 "nbformat_minor": 5
}
