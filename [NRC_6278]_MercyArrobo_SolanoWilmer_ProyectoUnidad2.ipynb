{
 "cells": [
  {
   "cell_type": "code",
   "execution_count": 1,
   "id": "3a9a6434",
   "metadata": {},
   "outputs": [],
   "source": [
    "#Para esta actividad se importarán las siguientes librerías:\n",
    "#Para esta actividad se importarán las siguientes librerías:\n",
    "import pandas as pd\n",
    "#Importando las librerías para el ejemplo \n",
    "import matplotlib.pyplot as plt #Importando  matplotlib\n",
    "import numpy as np #Importando numoy\n",
    "import seaborn as sns #Importando seaborn\n",
    "\n",
    "#Importando dataset que se van a usar\n",
    "from sklearn.datasets import load_boston\n",
    "from sklearn.model_selection import train_test_split\n",
    "\n",
    "#Para poder realizar la normalización media se debe de importar el escalador\n",
    "from sklearn.preprocessing import StandardScaler, RobustScaler"
   ]
  },
  {
   "cell_type": "code",
   "execution_count": 2,
   "id": "55cf7a38",
   "metadata": {},
   "outputs": [
    {
     "data": {
      "text/html": [
       "<div>\n",
       "<style scoped>\n",
       "    .dataframe tbody tr th:only-of-type {\n",
       "        vertical-align: middle;\n",
       "    }\n",
       "\n",
       "    .dataframe tbody tr th {\n",
       "        vertical-align: top;\n",
       "    }\n",
       "\n",
       "    .dataframe thead th {\n",
       "        text-align: right;\n",
       "    }\n",
       "</style>\n",
       "<table border=\"1\" class=\"dataframe\">\n",
       "  <thead>\n",
       "    <tr style=\"text-align: right;\">\n",
       "      <th></th>\n",
       "      <th>id</th>\n",
       "      <th>age</th>\n",
       "      <th>gender</th>\n",
       "      <th>height</th>\n",
       "      <th>weight</th>\n",
       "      <th>ap_hi</th>\n",
       "      <th>ap_lo</th>\n",
       "      <th>cholesterol</th>\n",
       "      <th>gluc</th>\n",
       "      <th>smoke</th>\n",
       "      <th>alco</th>\n",
       "      <th>active</th>\n",
       "      <th>cardio</th>\n",
       "    </tr>\n",
       "  </thead>\n",
       "  <tbody>\n",
       "    <tr>\n",
       "      <th>0</th>\n",
       "      <td>0</td>\n",
       "      <td>18393</td>\n",
       "      <td>2</td>\n",
       "      <td>168</td>\n",
       "      <td>62.0</td>\n",
       "      <td>110</td>\n",
       "      <td>80</td>\n",
       "      <td>1</td>\n",
       "      <td>1</td>\n",
       "      <td>0</td>\n",
       "      <td>0</td>\n",
       "      <td>1</td>\n",
       "      <td>0</td>\n",
       "    </tr>\n",
       "    <tr>\n",
       "      <th>1</th>\n",
       "      <td>1</td>\n",
       "      <td>20228</td>\n",
       "      <td>1</td>\n",
       "      <td>156</td>\n",
       "      <td>85.0</td>\n",
       "      <td>140</td>\n",
       "      <td>90</td>\n",
       "      <td>3</td>\n",
       "      <td>1</td>\n",
       "      <td>0</td>\n",
       "      <td>0</td>\n",
       "      <td>1</td>\n",
       "      <td>1</td>\n",
       "    </tr>\n",
       "    <tr>\n",
       "      <th>2</th>\n",
       "      <td>2</td>\n",
       "      <td>18857</td>\n",
       "      <td>1</td>\n",
       "      <td>165</td>\n",
       "      <td>64.0</td>\n",
       "      <td>130</td>\n",
       "      <td>70</td>\n",
       "      <td>3</td>\n",
       "      <td>1</td>\n",
       "      <td>0</td>\n",
       "      <td>0</td>\n",
       "      <td>0</td>\n",
       "      <td>1</td>\n",
       "    </tr>\n",
       "    <tr>\n",
       "      <th>3</th>\n",
       "      <td>3</td>\n",
       "      <td>17623</td>\n",
       "      <td>2</td>\n",
       "      <td>169</td>\n",
       "      <td>82.0</td>\n",
       "      <td>150</td>\n",
       "      <td>100</td>\n",
       "      <td>1</td>\n",
       "      <td>1</td>\n",
       "      <td>0</td>\n",
       "      <td>0</td>\n",
       "      <td>1</td>\n",
       "      <td>1</td>\n",
       "    </tr>\n",
       "    <tr>\n",
       "      <th>4</th>\n",
       "      <td>4</td>\n",
       "      <td>17474</td>\n",
       "      <td>1</td>\n",
       "      <td>156</td>\n",
       "      <td>56.0</td>\n",
       "      <td>100</td>\n",
       "      <td>60</td>\n",
       "      <td>1</td>\n",
       "      <td>1</td>\n",
       "      <td>0</td>\n",
       "      <td>0</td>\n",
       "      <td>0</td>\n",
       "      <td>0</td>\n",
       "    </tr>\n",
       "  </tbody>\n",
       "</table>\n",
       "</div>"
      ],
      "text/plain": [
       "   id    age  gender  height  weight  ap_hi  ap_lo  cholesterol  gluc  smoke  \\\n",
       "0   0  18393       2     168    62.0    110     80            1     1      0   \n",
       "1   1  20228       1     156    85.0    140     90            3     1      0   \n",
       "2   2  18857       1     165    64.0    130     70            3     1      0   \n",
       "3   3  17623       2     169    82.0    150    100            1     1      0   \n",
       "4   4  17474       1     156    56.0    100     60            1     1      0   \n",
       "\n",
       "   alco  active  cardio  \n",
       "0     0       1       0  \n",
       "1     0       1       1  \n",
       "2     0       0       1  \n",
       "3     0       1       1  \n",
       "4     0       0       0  "
      ]
     },
     "execution_count": 2,
     "metadata": {},
     "output_type": "execute_result"
    }
   ],
   "source": [
    "#Código para cargar el Dataset\n",
    "enfermedadesCardiovascular= pd.read_csv('cardio_train.csv',sep=\";\")\n",
    "enfermedadesCardiovascular.head() #presentando dataset"
   ]
  },
  {
   "cell_type": "markdown",
   "id": "37a753b6",
   "metadata": {},
   "source": [
    "# Limpieza de datos"
   ]
  },
  {
   "cell_type": "code",
   "execution_count": 3,
   "id": "cce1d292",
   "metadata": {},
   "outputs": [
    {
     "data": {
      "text/html": [
       "<div>\n",
       "<style scoped>\n",
       "    .dataframe tbody tr th:only-of-type {\n",
       "        vertical-align: middle;\n",
       "    }\n",
       "\n",
       "    .dataframe tbody tr th {\n",
       "        vertical-align: top;\n",
       "    }\n",
       "\n",
       "    .dataframe thead th {\n",
       "        text-align: right;\n",
       "    }\n",
       "</style>\n",
       "<table border=\"1\" class=\"dataframe\">\n",
       "  <thead>\n",
       "    <tr style=\"text-align: right;\">\n",
       "      <th></th>\n",
       "      <th>id</th>\n",
       "      <th>age</th>\n",
       "      <th>gender</th>\n",
       "      <th>height</th>\n",
       "      <th>weight</th>\n",
       "      <th>ap_hi</th>\n",
       "      <th>ap_lo</th>\n",
       "      <th>cholesterol</th>\n",
       "      <th>gluc</th>\n",
       "      <th>smoke</th>\n",
       "      <th>alco</th>\n",
       "      <th>active</th>\n",
       "      <th>cardio</th>\n",
       "    </tr>\n",
       "  </thead>\n",
       "  <tbody>\n",
       "    <tr>\n",
       "      <th>53000</th>\n",
       "      <td>75599</td>\n",
       "      <td>17482</td>\n",
       "      <td>2</td>\n",
       "      <td>172</td>\n",
       "      <td>76.0</td>\n",
       "      <td>110</td>\n",
       "      <td>70</td>\n",
       "      <td>1</td>\n",
       "      <td>1</td>\n",
       "      <td>0</td>\n",
       "      <td>1</td>\n",
       "      <td>1</td>\n",
       "      <td>1</td>\n",
       "    </tr>\n",
       "    <tr>\n",
       "      <th>53001</th>\n",
       "      <td>75601</td>\n",
       "      <td>18358</td>\n",
       "      <td>1</td>\n",
       "      <td>161</td>\n",
       "      <td>62.0</td>\n",
       "      <td>120</td>\n",
       "      <td>80</td>\n",
       "      <td>1</td>\n",
       "      <td>1</td>\n",
       "      <td>0</td>\n",
       "      <td>0</td>\n",
       "      <td>1</td>\n",
       "      <td>0</td>\n",
       "    </tr>\n",
       "    <tr>\n",
       "      <th>53002</th>\n",
       "      <td>75602</td>\n",
       "      <td>22448</td>\n",
       "      <td>1</td>\n",
       "      <td>144</td>\n",
       "      <td>63.0</td>\n",
       "      <td>140</td>\n",
       "      <td>90</td>\n",
       "      <td>1</td>\n",
       "      <td>1</td>\n",
       "      <td>0</td>\n",
       "      <td>0</td>\n",
       "      <td>1</td>\n",
       "      <td>1</td>\n",
       "    </tr>\n",
       "    <tr>\n",
       "      <th>53003</th>\n",
       "      <td>75603</td>\n",
       "      <td>16811</td>\n",
       "      <td>1</td>\n",
       "      <td>165</td>\n",
       "      <td>67.0</td>\n",
       "      <td>160</td>\n",
       "      <td>90</td>\n",
       "      <td>2</td>\n",
       "      <td>2</td>\n",
       "      <td>0</td>\n",
       "      <td>0</td>\n",
       "      <td>1</td>\n",
       "      <td>0</td>\n",
       "    </tr>\n",
       "    <tr>\n",
       "      <th>53004</th>\n",
       "      <td>75604</td>\n",
       "      <td>23531</td>\n",
       "      <td>1</td>\n",
       "      <td>170</td>\n",
       "      <td>65.0</td>\n",
       "      <td>110</td>\n",
       "      <td>80</td>\n",
       "      <td>1</td>\n",
       "      <td>1</td>\n",
       "      <td>0</td>\n",
       "      <td>0</td>\n",
       "      <td>1</td>\n",
       "      <td>1</td>\n",
       "    </tr>\n",
       "  </tbody>\n",
       "</table>\n",
       "</div>"
      ],
      "text/plain": [
       "          id    age  gender  height  weight  ap_hi  ap_lo  cholesterol  gluc  \\\n",
       "53000  75599  17482       2     172    76.0    110     70            1     1   \n",
       "53001  75601  18358       1     161    62.0    120     80            1     1   \n",
       "53002  75602  22448       1     144    63.0    140     90            1     1   \n",
       "53003  75603  16811       1     165    67.0    160     90            2     2   \n",
       "53004  75604  23531       1     170    65.0    110     80            1     1   \n",
       "\n",
       "       smoke  alco  active  cardio  \n",
       "53000      0     1       1       1  \n",
       "53001      0     0       1       0  \n",
       "53002      0     0       1       1  \n",
       "53003      0     0       1       0  \n",
       "53004      0     0       1       1  "
      ]
     },
     "execution_count": 3,
     "metadata": {},
     "output_type": "execute_result"
    }
   ],
   "source": [
    "#Reduciendo registros de dataset para pasar de 70000 a 3000\n",
    "datasetReducido=enfermedadesCardiovascular[53000:56000]\n",
    "datasetReducido.head() #Los registros serán escogidos aleatoriamente"
   ]
  },
  {
   "cell_type": "code",
   "execution_count": 10,
   "id": "79d008ff",
   "metadata": {},
   "outputs": [],
   "source": [
    "\"\"\"Separando las características de entrada y salida\"\"\"\n",
    "X=datasetReducido[['age','gender','height','weight','ap_hi','ap_lo','cholesterol','gluc','smoke','alco','active']]\n",
    "y=datasetReducido[['cardio']]"
   ]
  },
  {
   "cell_type": "code",
   "execution_count": 11,
   "id": "45118b1d",
   "metadata": {},
   "outputs": [
    {
     "data": {
      "text/plain": [
       "cardio    0\n",
       "dtype: int64"
      ]
     },
     "execution_count": 11,
     "metadata": {},
     "output_type": "execute_result"
    }
   ],
   "source": [
    "\"\"\"Identificando si existen valores nulos en la variable objetivo\"\"\"\n",
    "y.isnull().sum()"
   ]
  },
  {
   "cell_type": "code",
   "execution_count": 12,
   "id": "b8afefd1",
   "metadata": {},
   "outputs": [
    {
     "data": {
      "text/plain": [
       "age            0\n",
       "gender         0\n",
       "height         0\n",
       "weight         0\n",
       "ap_hi          0\n",
       "ap_lo          0\n",
       "cholesterol    0\n",
       "gluc           0\n",
       "smoke          0\n",
       "alco           0\n",
       "active         0\n",
       "dtype: int64"
      ]
     },
     "execution_count": 12,
     "metadata": {},
     "output_type": "execute_result"
    }
   ],
   "source": [
    "\"\"\"Identificando si existen valores nulos en las variables de entrada\"\"\"\n",
    "X.isnull().sum()"
   ]
  },
  {
   "cell_type": "markdown",
   "id": "644597eb",
   "metadata": {},
   "source": [
    "# Descripción de la fuente del Dataset"
   ]
  },
  {
   "cell_type": "markdown",
   "id": "c46a03d9",
   "metadata": {},
   "source": [
    "El dataset con el que se va a trabajar contiene 70000 registros, el cual se lo transformo a 3000 reigstros. Los registros serán sobre personas con enfermedad cardiovascular. Contiene características que ayuda a predicir si una persona tiene o no enfermedad cardiovascular. Entre las características de entrada se encuentran las siguientes:\n",
    "\n",
    "Id: Id de la persona (int).\n",
    "\n",
    "Age: La edad (int).\n",
    "\n",
    "Gender: El género 1 para mujer y 2 para hombre.\n",
    "\n",
    "Height: Altura (cm).\n",
    "\n",
    "Weight: El peso (kg).\n",
    "\n",
    "ap_hi: Presión sanguínea sistólica (int).\n",
    "\n",
    "ap_lo: Presión arterial diastólica.\n",
    "\n",
    "cholesterol: El colesterol por niveles, 1: normal, 2: por encima de lo normal, 3: muy por\n",
    "encima de lo normal.\n",
    "\n",
    "gluc: La glucosa por niveles, 1: normal, 2: por encima de lo normal, 3: muy por encima de lo\n",
    "normal.\n",
    "\n",
    "smoke: Si el paciente fuma o no, 0 para no y 1 para si.\n",
    "\n",
    "alco: Si el paciente toma alcohol, 0 para no y 1 para si.\n",
    "\n",
    "active: Si el paciente tiene actividad física, 0 para no y 1 para si."
   ]
  },
  {
   "cell_type": "code",
   "execution_count": 4,
   "id": "50c4049a",
   "metadata": {},
   "outputs": [
    {
     "data": {
      "text/html": [
       "<div>\n",
       "<style scoped>\n",
       "    .dataframe tbody tr th:only-of-type {\n",
       "        vertical-align: middle;\n",
       "    }\n",
       "\n",
       "    .dataframe tbody tr th {\n",
       "        vertical-align: top;\n",
       "    }\n",
       "\n",
       "    .dataframe thead th {\n",
       "        text-align: right;\n",
       "    }\n",
       "</style>\n",
       "<table border=\"1\" class=\"dataframe\">\n",
       "  <thead>\n",
       "    <tr style=\"text-align: right;\">\n",
       "      <th></th>\n",
       "      <th>id</th>\n",
       "      <th>age</th>\n",
       "      <th>gender</th>\n",
       "      <th>height</th>\n",
       "      <th>weight</th>\n",
       "      <th>ap_hi</th>\n",
       "      <th>ap_lo</th>\n",
       "      <th>cholesterol</th>\n",
       "      <th>gluc</th>\n",
       "      <th>smoke</th>\n",
       "      <th>alco</th>\n",
       "      <th>active</th>\n",
       "      <th>cardio</th>\n",
       "    </tr>\n",
       "  </thead>\n",
       "  <tbody>\n",
       "    <tr>\n",
       "      <th>count</th>\n",
       "      <td>70000.000000</td>\n",
       "      <td>70000.000000</td>\n",
       "      <td>70000.000000</td>\n",
       "      <td>70000.000000</td>\n",
       "      <td>70000.000000</td>\n",
       "      <td>70000.000000</td>\n",
       "      <td>70000.000000</td>\n",
       "      <td>70000.000000</td>\n",
       "      <td>70000.000000</td>\n",
       "      <td>70000.000000</td>\n",
       "      <td>70000.000000</td>\n",
       "      <td>70000.000000</td>\n",
       "      <td>70000.000000</td>\n",
       "    </tr>\n",
       "    <tr>\n",
       "      <th>mean</th>\n",
       "      <td>49972.419900</td>\n",
       "      <td>19468.865814</td>\n",
       "      <td>1.349571</td>\n",
       "      <td>164.359229</td>\n",
       "      <td>74.205690</td>\n",
       "      <td>128.817286</td>\n",
       "      <td>96.630414</td>\n",
       "      <td>1.366871</td>\n",
       "      <td>1.226457</td>\n",
       "      <td>0.088129</td>\n",
       "      <td>0.053771</td>\n",
       "      <td>0.803729</td>\n",
       "      <td>0.499700</td>\n",
       "    </tr>\n",
       "    <tr>\n",
       "      <th>std</th>\n",
       "      <td>28851.302323</td>\n",
       "      <td>2467.251667</td>\n",
       "      <td>0.476838</td>\n",
       "      <td>8.210126</td>\n",
       "      <td>14.395757</td>\n",
       "      <td>154.011419</td>\n",
       "      <td>188.472530</td>\n",
       "      <td>0.680250</td>\n",
       "      <td>0.572270</td>\n",
       "      <td>0.283484</td>\n",
       "      <td>0.225568</td>\n",
       "      <td>0.397179</td>\n",
       "      <td>0.500003</td>\n",
       "    </tr>\n",
       "    <tr>\n",
       "      <th>min</th>\n",
       "      <td>0.000000</td>\n",
       "      <td>10798.000000</td>\n",
       "      <td>1.000000</td>\n",
       "      <td>55.000000</td>\n",
       "      <td>10.000000</td>\n",
       "      <td>-150.000000</td>\n",
       "      <td>-70.000000</td>\n",
       "      <td>1.000000</td>\n",
       "      <td>1.000000</td>\n",
       "      <td>0.000000</td>\n",
       "      <td>0.000000</td>\n",
       "      <td>0.000000</td>\n",
       "      <td>0.000000</td>\n",
       "    </tr>\n",
       "    <tr>\n",
       "      <th>25%</th>\n",
       "      <td>25006.750000</td>\n",
       "      <td>17664.000000</td>\n",
       "      <td>1.000000</td>\n",
       "      <td>159.000000</td>\n",
       "      <td>65.000000</td>\n",
       "      <td>120.000000</td>\n",
       "      <td>80.000000</td>\n",
       "      <td>1.000000</td>\n",
       "      <td>1.000000</td>\n",
       "      <td>0.000000</td>\n",
       "      <td>0.000000</td>\n",
       "      <td>1.000000</td>\n",
       "      <td>0.000000</td>\n",
       "    </tr>\n",
       "    <tr>\n",
       "      <th>50%</th>\n",
       "      <td>50001.500000</td>\n",
       "      <td>19703.000000</td>\n",
       "      <td>1.000000</td>\n",
       "      <td>165.000000</td>\n",
       "      <td>72.000000</td>\n",
       "      <td>120.000000</td>\n",
       "      <td>80.000000</td>\n",
       "      <td>1.000000</td>\n",
       "      <td>1.000000</td>\n",
       "      <td>0.000000</td>\n",
       "      <td>0.000000</td>\n",
       "      <td>1.000000</td>\n",
       "      <td>0.000000</td>\n",
       "    </tr>\n",
       "    <tr>\n",
       "      <th>75%</th>\n",
       "      <td>74889.250000</td>\n",
       "      <td>21327.000000</td>\n",
       "      <td>2.000000</td>\n",
       "      <td>170.000000</td>\n",
       "      <td>82.000000</td>\n",
       "      <td>140.000000</td>\n",
       "      <td>90.000000</td>\n",
       "      <td>2.000000</td>\n",
       "      <td>1.000000</td>\n",
       "      <td>0.000000</td>\n",
       "      <td>0.000000</td>\n",
       "      <td>1.000000</td>\n",
       "      <td>1.000000</td>\n",
       "    </tr>\n",
       "    <tr>\n",
       "      <th>max</th>\n",
       "      <td>99999.000000</td>\n",
       "      <td>23713.000000</td>\n",
       "      <td>2.000000</td>\n",
       "      <td>250.000000</td>\n",
       "      <td>200.000000</td>\n",
       "      <td>16020.000000</td>\n",
       "      <td>11000.000000</td>\n",
       "      <td>3.000000</td>\n",
       "      <td>3.000000</td>\n",
       "      <td>1.000000</td>\n",
       "      <td>1.000000</td>\n",
       "      <td>1.000000</td>\n",
       "      <td>1.000000</td>\n",
       "    </tr>\n",
       "  </tbody>\n",
       "</table>\n",
       "</div>"
      ],
      "text/plain": [
       "                 id           age        gender        height        weight  \\\n",
       "count  70000.000000  70000.000000  70000.000000  70000.000000  70000.000000   \n",
       "mean   49972.419900  19468.865814      1.349571    164.359229     74.205690   \n",
       "std    28851.302323   2467.251667      0.476838      8.210126     14.395757   \n",
       "min        0.000000  10798.000000      1.000000     55.000000     10.000000   \n",
       "25%    25006.750000  17664.000000      1.000000    159.000000     65.000000   \n",
       "50%    50001.500000  19703.000000      1.000000    165.000000     72.000000   \n",
       "75%    74889.250000  21327.000000      2.000000    170.000000     82.000000   \n",
       "max    99999.000000  23713.000000      2.000000    250.000000    200.000000   \n",
       "\n",
       "              ap_hi         ap_lo   cholesterol          gluc         smoke  \\\n",
       "count  70000.000000  70000.000000  70000.000000  70000.000000  70000.000000   \n",
       "mean     128.817286     96.630414      1.366871      1.226457      0.088129   \n",
       "std      154.011419    188.472530      0.680250      0.572270      0.283484   \n",
       "min     -150.000000    -70.000000      1.000000      1.000000      0.000000   \n",
       "25%      120.000000     80.000000      1.000000      1.000000      0.000000   \n",
       "50%      120.000000     80.000000      1.000000      1.000000      0.000000   \n",
       "75%      140.000000     90.000000      2.000000      1.000000      0.000000   \n",
       "max    16020.000000  11000.000000      3.000000      3.000000      1.000000   \n",
       "\n",
       "               alco        active        cardio  \n",
       "count  70000.000000  70000.000000  70000.000000  \n",
       "mean       0.053771      0.803729      0.499700  \n",
       "std        0.225568      0.397179      0.500003  \n",
       "min        0.000000      0.000000      0.000000  \n",
       "25%        0.000000      1.000000      0.000000  \n",
       "50%        0.000000      1.000000      0.000000  \n",
       "75%        0.000000      1.000000      1.000000  \n",
       "max        1.000000      1.000000      1.000000  "
      ]
     },
     "execution_count": 4,
     "metadata": {},
     "output_type": "execute_result"
    }
   ],
   "source": [
    "#describiendo las caracteristicas anteriormente mencionadas\n",
    "enfermedadesCardiovascular.describe()"
   ]
  },
  {
   "cell_type": "markdown",
   "id": "b77782aa",
   "metadata": {},
   "source": [
    "# Problema a resolver"
   ]
  },
  {
   "cell_type": "markdown",
   "id": "65b5094b",
   "metadata": {},
   "source": [
    "Como se ha mencionado el problema identificado es predicir si una personas tienen o no una enfermedad cardiovascular. Para ello en su variable objetivo que es Cardio se identifica con 1 a las personas con enfermedad cardiovascular. Mientras que, 0 a las personas que no tienen enfermedad cardiovascular. Entre las variables objetivos están: Id,\n",
    "Age\n",
    "Gender\n",
    "Height\n",
    "Weight \n",
    "ap_hi\n",
    "ap_lo \n",
    "cholesterol \n",
    "gluc\n",
    "smoke \n",
    "alco \n",
    "active "
   ]
  },
  {
   "cell_type": "markdown",
   "id": "ae9a75f5",
   "metadata": {},
   "source": [
    "# Caracterización del Dataset"
   ]
  },
  {
   "cell_type": "code",
   "execution_count": 14,
   "id": "65743248",
   "metadata": {},
   "outputs": [
    {
     "data": {
      "text/plain": [
       "id             3000\n",
       "age            3000\n",
       "gender         3000\n",
       "height         3000\n",
       "weight         3000\n",
       "ap_hi          3000\n",
       "ap_lo          3000\n",
       "cholesterol    3000\n",
       "gluc           3000\n",
       "smoke          3000\n",
       "alco           3000\n",
       "active         3000\n",
       "cardio         3000\n",
       "dtype: int64"
      ]
     },
     "execution_count": 14,
     "metadata": {},
     "output_type": "execute_result"
    }
   ],
   "source": [
    "#Número de instancias en total.\n",
    "datasetReducido.count()"
   ]
  },
  {
   "cell_type": "code",
   "execution_count": 15,
   "id": "70b77b9f",
   "metadata": {},
   "outputs": [
    {
     "name": "stdout",
     "output_type": "stream",
     "text": [
      "<class 'pandas.core.frame.DataFrame'>\n",
      "Int64Index: 3000 entries, 39585 to 38970\n",
      "Data columns (total 12 columns):\n",
      " #   Column       Non-Null Count  Dtype  \n",
      "---  ------       --------------  -----  \n",
      " 0   id           3000 non-null   int64  \n",
      " 1   age          3000 non-null   int64  \n",
      " 2   gender       3000 non-null   int64  \n",
      " 3   height       3000 non-null   int64  \n",
      " 4   weight       3000 non-null   float64\n",
      " 5   ap_hi        3000 non-null   int64  \n",
      " 6   ap_lo        3000 non-null   int64  \n",
      " 7   cholesterol  3000 non-null   int64  \n",
      " 8   gluc         3000 non-null   int64  \n",
      " 9   smoke        3000 non-null   int64  \n",
      " 10  alco         3000 non-null   int64  \n",
      " 11  active       3000 non-null   int64  \n",
      "dtypes: float64(1), int64(11)\n",
      "memory usage: 304.7 KB\n"
     ]
    }
   ],
   "source": [
    "#Número de atributos de entrada, su significado y tipo.\n",
    "datasetReducido.drop('cardio', axis=1).info()"
   ]
  },
  {
   "cell_type": "code",
   "execution_count": 16,
   "id": "1fe84871",
   "metadata": {},
   "outputs": [],
   "source": [
    "#AQUI TOCA HACER ALGO MAAASSSSSS "
   ]
  },
  {
   "cell_type": "markdown",
   "id": "365063ca",
   "metadata": {},
   "source": [
    "# Variables de entrenamiento y prueba"
   ]
  },
  {
   "cell_type": "code",
   "execution_count": 16,
   "id": "f38b40bd",
   "metadata": {},
   "outputs": [],
   "source": [
    "\"\"\"Variables de entrada y variable objetivo\"\"\"\n",
    "VariableObjetivo=['cardio']\n",
    "VariablesEntrada=['age','gender','height','weight','ap_hi','ap_lo','cholesterol','gluc','smoke','alco','active']"
   ]
  },
  {
   "cell_type": "code",
   "execution_count": 17,
   "id": "c1a931c9",
   "metadata": {},
   "outputs": [],
   "source": [
    "\"\"\"Dividiendo para prepar las variables de entrenamiento y prueba\"\"\"\n",
    "x=datasetReducido[VariablesEntrada].values\n",
    "y=datasetReducido[VariableObjetivo].values"
   ]
  },
  {
   "cell_type": "code",
   "execution_count": 18,
   "id": "5d594dc3",
   "metadata": {},
   "outputs": [],
   "source": [
    "\"\"\"Declarando las variables de entrenamiento y prueba\"\"\"\n",
    "X_train, X_test, y_train, y_test = train_test_split(x, y, test_size=0.3, random_state=0)"
   ]
  },
  {
   "cell_type": "markdown",
   "id": "ad86a3c2",
   "metadata": {},
   "source": [
    "# Estanderizando"
   ]
  },
  {
   "cell_type": "markdown",
   "id": "66afe56d",
   "metadata": {},
   "source": [
    "# Naive Bayes"
   ]
  },
  {
   "cell_type": "code",
   "execution_count": 37,
   "id": "df7f38e4",
   "metadata": {},
   "outputs": [],
   "source": [
    "\"\"\"Importando las librerias necesarias que se usan para el modelo\"\"\"\n",
    "import pandas as pd\n",
    "import matplotlib.pyplot as pit\n",
    "import statsmodels.api as sm\n",
    "from sklearn.model_selection import train_test_split\n",
    "from sklearn.naive_bayes import GaussianNB\n",
    "from sklearn.metrics import classification_report\n",
    "from sklearn.preprocessing import StandardScaler\n",
    "from sklearn.metrics import confusion_matrix\n",
    "from sklearn.metrics import accuracy_score"
   ]
  },
  {
   "cell_type": "code",
   "execution_count": 20,
   "id": "a603321e",
   "metadata": {},
   "outputs": [],
   "source": [
    "\"\"\"Dividiendo para prepar las variables de entrenamiento y prueba\"\"\"\n",
    "x=datasetReducido.drop(['cardio'],axis=1)\n",
    "y=datasetReducido.cardio"
   ]
  },
  {
   "cell_type": "code",
   "execution_count": 22,
   "id": "21722cb1",
   "metadata": {},
   "outputs": [],
   "source": [
    "\"\"\"Declarando las variables de entrenamiento y prueba\"\"\"\n",
    "X_train, X_test, y_train, y_test = train_test_split(x, y, test_size=0.5, random_state=0)"
   ]
  },
  {
   "cell_type": "code",
   "execution_count": 27,
   "id": "809b1f67",
   "metadata": {},
   "outputs": [],
   "source": [
    "\"\"\"Estanderizando escalas\"\"\"\n",
    "estanderizar=StandardScaler()\n",
    "x_train=estanderizar.fit_transform(X_train)\n",
    "x_test=estanderizar.transform(X_test)"
   ]
  },
  {
   "cell_type": "code",
   "execution_count": 29,
   "id": "f435d65a",
   "metadata": {},
   "outputs": [
    {
     "data": {
      "text/plain": [
       "GaussianNB()"
      ]
     },
     "execution_count": 29,
     "metadata": {},
     "output_type": "execute_result"
    }
   ],
   "source": [
    "\"\"\"Algoritmo de Naive Bayes\"\"\"\n",
    "clasificador=GaussianNB()\n",
    "clasificador.fit(X_train,y_train)"
   ]
  },
  {
   "cell_type": "code",
   "execution_count": 33,
   "id": "ad3ba429",
   "metadata": {},
   "outputs": [],
   "source": [
    "\"\"\"Predicción\"\"\"\n",
    "y_prediccion=clasificador.predict(X_test)"
   ]
  },
  {
   "cell_type": "code",
   "execution_count": 36,
   "id": "41738d47",
   "metadata": {},
   "outputs": [
    {
     "data": {
      "image/png": "[encoded data removed]",
      "text/plain": [
       "<Figure size 432x288 with 2 Axes>"
      ]
     },
     "metadata": {
      "needs_background": "light"
     },
     "output_type": "display_data"
    }
   ],
   "source": [
    "\"\"\"Creando matriz de confusion\"\"\"\n",
    "MConfusion=confusion_matrix(y_test,y_prediccion)\n",
    "sns.heatmap(MConfusion,annot=True)\n",
    "plt.xlabel(\"Prediccion\")\n",
    "plt.ylabel(\"Real\")\n",
    "plt.title(\"Matriz de confusion\")\n",
    "plt.show()"
   ]
  },
  {
   "cell_type": "code",
   "execution_count": 38,
   "id": "0249572b",
   "metadata": {},
   "outputs": [
    {
     "data": {
      "text/plain": [
       "0.5513333333333333"
      ]
     },
     "execution_count": 38,
     "metadata": {},
     "output_type": "execute_result"
    }
   ],
   "source": [
    "\"\"\"Accuracy del modelo\"\"\"\n",
    "accuracy_score(y_test,y_prediccion)"
   ]
  },
  {
   "cell_type": "code",
   "execution_count": null,
   "id": "e9068261",
   "metadata": {},
   "outputs": [],
   "source": []
  }
 ],
 "metadata": {
  "kernelspec": {
   "display_name": "Python 3 (ipykernel)",
   "language": "python",
   "name": "python3"
  },
  "language_info": {
   "codemirror_mode": {
    "name": "ipython",
    "version": 3
   },
   "file_extension": ".py",
   "mimetype": "text/x-python",
   "name": "python",
   "nbconvert_exporter": "python",
   "pygments_lexer": "ipython3",
   "version": "3.9.12"
  }
 },
 "nbformat": 4,
 "nbformat_minor": 5
}
